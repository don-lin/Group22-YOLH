{
 "cells": [
  {
   "cell_type": "code",
   "execution_count": 5,
   "metadata": {},
   "outputs": [],
   "source": [
    "import pandas as pd\n",
    "\n",
    "df = pd.read_csv('beijing_data.csv')"
   ]
  },
  {
   "cell_type": "code",
   "execution_count": 30,
   "metadata": {},
   "outputs": [
    {
     "data": {
      "text/plain": [
       "1381    61.69\n",
       "Name: square, dtype: float64"
      ]
     },
     "execution_count": 30,
     "metadata": {},
     "output_type": "execute_result"
    }
   ],
   "source": [
    "df['square'].sample()"
   ]
  },
  {
   "cell_type": "code",
   "execution_count": 31,
   "metadata": {},
   "outputs": [],
   "source": [
    "categoryCol=['substrict','type','direction']"
   ]
  },
  {
   "cell_type": "code",
   "execution_count": 32,
   "metadata": {},
   "outputs": [],
   "source": [
    "for i in categoryCol:\n",
    "    df[i]=df[i].astype(\"category\")"
   ]
  },
  {
   "cell_type": "code",
   "execution_count": 34,
   "metadata": {},
   "outputs": [
    {
     "name": "stdout",
     "output_type": "stream",
     "text": [
      "<class 'pandas.core.frame.DataFrame'>\n",
      "RangeIndex: 2120 entries, 0 to 2119\n",
      "Data columns (total 10 columns):\n",
      " #   Column        Non-Null Count  Dtype   \n",
      "---  ------        --------------  -----   \n",
      " 0   X             2120 non-null   float64 \n",
      " 1   Y             2120 non-null   float64 \n",
      " 2   substrict     2120 non-null   category\n",
      " 3   time          2120 non-null   object  \n",
      " 4   price         2120 non-null   object  \n",
      " 5   type          2120 non-null   category\n",
      " 6   direction     2120 non-null   category\n",
      " 7   square        2120 non-null   float64 \n",
      " 8   price per m2  2120 non-null   object  \n",
      " 9   PageUrl       2120 non-null   object  \n",
      "dtypes: category(3), float64(3), object(4)\n",
      "memory usage: 125.7+ KB\n"
     ]
    }
   ],
   "source": [
    "df.info()"
   ]
  },
  {
   "cell_type": "code",
   "execution_count": 38,
   "metadata": {},
   "outputs": [],
   "source": [
    "df['time'] = pd.to_datetime(df['time'], format='%Y.%m.%d')"
   ]
  },
  {
   "cell_type": "code",
   "execution_count": 41,
   "metadata": {},
   "outputs": [
    {
     "name": "stdout",
     "output_type": "stream",
     "text": [
      "<class 'pandas.core.frame.DataFrame'>\n",
      "RangeIndex: 2120 entries, 0 to 2119\n",
      "Data columns (total 10 columns):\n",
      " #   Column        Non-Null Count  Dtype         \n",
      "---  ------        --------------  -----         \n",
      " 0   X             2120 non-null   float64       \n",
      " 1   Y             2120 non-null   float64       \n",
      " 2   substrict     2120 non-null   category      \n",
      " 3   time          2120 non-null   datetime64[ns]\n",
      " 4   price         2120 non-null   object        \n",
      " 5   type          2120 non-null   category      \n",
      " 6   direction     2120 non-null   category      \n",
      " 7   square        2120 non-null   float64       \n",
      " 8   price per m2  2120 non-null   object        \n",
      " 9   PageUrl       2120 non-null   object        \n",
      "dtypes: category(3), datetime64[ns](1), float64(3), object(3)\n",
      "memory usage: 125.7+ KB\n"
     ]
    }
   ],
   "source": [
    "df.info()"
   ]
  },
  {
   "cell_type": "code",
   "execution_count": 45,
   "metadata": {},
   "outputs": [],
   "source": [
    "#df['price per m2']=df['price per m2'].astype('float64')\n",
    "\n",
    "\n",
    "\n",
    "def cleanMinus(data):\n",
    "    if data.find('-')==-1:\n",
    "        return data\n",
    "    data=data.split('-')\n",
    "    return data[0]"
   ]
  },
  {
   "cell_type": "code",
   "execution_count": 46,
   "metadata": {},
   "outputs": [
    {
     "data": {
      "text/plain": [
       "X                                                     116.482\n",
       "Y                                                     39.8787\n",
       "substrict                                                松榆东里\n",
       "time                                      1905-07-06 00:00:00\n",
       "price                                                 190-210\n",
       "type                                                 2室1厅1厨1卫\n",
       "direction                                                 南 北\n",
       "square                                                     59\n",
       "price per m2                                      32203-35593\n",
       "PageUrl         https://bj.ke.com/chengjiao/BJCY88728714.html\n",
       "Name: 454, dtype: object"
      ]
     },
     "execution_count": 46,
     "metadata": {},
     "output_type": "execute_result"
    }
   ],
   "source": [
    "df.loc[454]"
   ]
  }
 ],
 "metadata": {
  "kernelspec": {
   "display_name": "Python 3",
   "language": "python",
   "name": "python3"
  },
  "language_info": {
   "codemirror_mode": {
    "name": "ipython",
    "version": 3
   },
   "file_extension": ".py",
   "mimetype": "text/x-python",
   "name": "python",
   "nbconvert_exporter": "python",
   "pygments_lexer": "ipython3",
   "version": "3.8.5"
  }
 },
 "nbformat": 4,
 "nbformat_minor": 4
}
